{
 "cells": [
  {
   "cell_type": "code",
   "execution_count": 2,
   "metadata": {},
   "outputs": [
    {
     "data": {
      "text/plain": [
       "[2, 3, 4, 5, 6, 8, 9, 10]"
      ]
     },
     "execution_count": 2,
     "metadata": {},
     "output_type": "execute_result"
    }
   ],
   "source": [
    "#buscar\n",
    "\n",
    "lista = [1,2,3,4,5,6,8,9,10]\n",
    "objetivo = []\n",
    "\n",
    "for numero in lista:\n",
    "    if numero > 1:\n",
    "        objetivo.append(numero)\n",
    "\n",
    "    else:\n",
    "        pass\n",
    "\n",
    "objetivo"
   ]
  },
  {
   "cell_type": "code",
   "execution_count": 4,
   "metadata": {},
   "outputs": [
    {
     "data": {
      "text/plain": [
       "0"
      ]
     },
     "execution_count": 4,
     "metadata": {},
     "output_type": "execute_result"
    }
   ],
   "source": [
    "#ejemplo\n",
    "\n",
    "mi_numero = 8\n",
    "\n",
    "if mi_numero %2 == 0:\n",
    "    mi_numero = 0\n",
    "else:\n",
    "    pass\n",
    "\n",
    "mi_numero"
   ]
  },
  {
   "cell_type": "code",
   "execution_count": null,
   "metadata": {},
   "outputs": [],
   "source": [
    "#regex\n",
    "\n",
    "mensaje = \"me gusta mucho el Python, tambien Me gusta C++\"\n"
   ]
  },
  {
   "cell_type": "code",
   "execution_count": null,
   "metadata": {},
   "outputs": [],
   "source": [
    "#regex en Python\n",
    "\n",
    "#findall\n",
    "#sub\n",
    "#split\n",
    "#match\n",
    "#search"
   ]
  },
  {
   "cell_type": "code",
   "execution_count": null,
   "metadata": {},
   "outputs": [],
   "source": [
    "#import re "
   ]
  }
 ],
 "metadata": {
  "kernelspec": {
   "display_name": "Python 3",
   "language": "python",
   "name": "python3"
  },
  "language_info": {
   "codemirror_mode": {
    "name": "ipython",
    "version": 3
   },
   "file_extension": ".py",
   "mimetype": "text/x-python",
   "name": "python",
   "nbconvert_exporter": "python",
   "pygments_lexer": "ipython3",
   "version": "3.12.3"
  }
 },
 "nbformat": 4,
 "nbformat_minor": 2
}
