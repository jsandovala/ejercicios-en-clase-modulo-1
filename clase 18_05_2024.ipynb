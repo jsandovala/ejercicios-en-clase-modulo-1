{
 "cells": [
  {
   "cell_type": "code",
   "execution_count": null,
   "metadata": {},
   "outputs": [],
   "source": [
    "#repaso 2. Ejercicios Ecommerce"
   ]
  },
  {
   "cell_type": "code",
   "execution_count": 2,
   "metadata": {},
   "outputs": [],
   "source": [
    "#1\n",
    "class Ecommerce:\n",
    "    def __init__(self, nombre):\n",
    "        self.nombre = nombre\n",
    "        self.productos = {} #{id_producto: [nombre, precio, stock]}\n",
    "        self.cliente = {} #{id_cliente: [nombre, email]} \n",
    "        self.ventas = [] #[(id_venta, id_cliente, id_producto, cantidad)]\n",
    "\n",
    "    def agregar_producto(self,id_producto,nombre,precio,stock):\n",
    "\n",
    "        if id_producto not in self.productos.keys():\n",
    "            self.productos[id_producto] = [nombre,precio,stock] #añade elemento nuevo al diccionario\n",
    "            print(f\"hemos añadido el producto {nombre} al inventario con exito\")\n",
    "            return self.productos \n",
    "\n",
    "        else:\n",
    "            print(f\"el producto {nombre} ya existe\")\n",
    "\n",
    "\n",
    "    def #poner otro metodo y volver a realizar todo el ejercicio anterior\n",
    "\n"
   ]
  },
  {
   "cell_type": "code",
   "execution_count": 5,
   "metadata": {},
   "outputs": [
    {
     "name": "stdout",
     "output_type": "stream",
     "text": [
      "hemos añadido el producto manzanas al inventario con exito\n"
     ]
    },
    {
     "data": {
      "text/plain": [
       "{1: ['manzanas', 10, 100]}"
      ]
     },
     "execution_count": 5,
     "metadata": {},
     "output_type": "execute_result"
    }
   ],
   "source": [
    "mi_tienda = Ecommerce(\"July\")\n",
    "\n",
    "mi_tienda.agregar_producto(1,\"manzanas\",10,100)"
   ]
  },
  {
   "cell_type": "code",
   "execution_count": 8,
   "metadata": {},
   "outputs": [
    {
     "name": "stdout",
     "output_type": "stream",
     "text": [
      "hemos añadido el producto peras al inventario con exito\n"
     ]
    },
    {
     "data": {
      "text/plain": [
       "{1: ['peras', 10, 100]}"
      ]
     },
     "execution_count": 8,
     "metadata": {},
     "output_type": "execute_result"
    }
   ],
   "source": [
    "mi_tienda = Ecommerce(\"July\")\n",
    "mi_tienda.agregar_producto(1,\"peras\",10,100)"
   ]
  },
  {
   "cell_type": "code",
   "execution_count": 10,
   "metadata": {},
   "outputs": [],
   "source": [
    "def agregar_cliente(self,id_cliente,nombre,email):\n",
    "\n",
    "        if id_cliente not in self.cliente.keys():\n",
    "            self.cliente[id_cliente] = [nombre,email] #añade elemento nuevo al diccionario\n",
    "            print(f\"hemos añadido el cliente {nombre} al inventario con exito\")\n",
    "            return self.cliente \n",
    "\n",
    "        else:\n",
    "            print(f\"el cliente {nombre} ya existe\")"
   ]
  },
  {
   "cell_type": "code",
   "execution_count": 15,
   "metadata": {},
   "outputs": [
    {
     "ename": "AttributeError",
     "evalue": "'Ecommerce' object has no attribute 'agregar_cliente'",
     "output_type": "error",
     "traceback": [
      "\u001b[1;31m---------------------------------------------------------------------------\u001b[0m",
      "\u001b[1;31mAttributeError\u001b[0m                            Traceback (most recent call last)",
      "Cell \u001b[1;32mIn[15], line 2\u001b[0m\n\u001b[0;32m      1\u001b[0m mi_lista_clientes \u001b[38;5;241m=\u001b[39m Ecommerce(\u001b[38;5;124m\"\u001b[39m\u001b[38;5;124mJuly\u001b[39m\u001b[38;5;124m\"\u001b[39m)\n\u001b[1;32m----> 2\u001b[0m \u001b[43mmi_lista_clientes\u001b[49m\u001b[38;5;241;43m.\u001b[39;49m\u001b[43magregar_cliente\u001b[49m(\u001b[38;5;241m1\u001b[39m,\u001b[38;5;124m\"\u001b[39m\u001b[38;5;124mantonio\u001b[39m\u001b[38;5;124m\"\u001b[39m,\u001b[38;5;124m\"\u001b[39m\u001b[38;5;124mtoni@gmail.com\u001b[39m\u001b[38;5;124m\"\u001b[39m)\n",
      "\u001b[1;31mAttributeError\u001b[0m: 'Ecommerce' object has no attribute 'agregar_cliente'"
     ]
    }
   ],
   "source": [
    "mi_lista_clientes = Ecommerce(\"July\")\n",
    "mi_lista_clientes.agregar_cliente(1,\"antonio\",\"toni@gmail.com\")"
   ]
  },
  {
   "cell_type": "markdown",
   "metadata": {},
   "source": [
    "if id_producto not in self.productos.keys():\n",
    "            nuevo_producto = ({id.producto: [nombre,precio,stock]})\n",
    "            self.productos.append(nuevo_producto) #añade elemento nuevo \n",
    "            print(f\"hemos añadido el producto {nombre} al inventario con exito\")\n",
    "            return self.productos "
   ]
  },
  {
   "cell_type": "code",
   "execution_count": null,
   "metadata": {},
   "outputs": [],
   "source": []
  }
 ],
 "metadata": {
  "kernelspec": {
   "display_name": "Python 3",
   "language": "python",
   "name": "python3"
  },
  "language_info": {
   "codemirror_mode": {
    "name": "ipython",
    "version": 3
   },
   "file_extension": ".py",
   "mimetype": "text/x-python",
   "name": "python",
   "nbconvert_exporter": "python",
   "pygments_lexer": "ipython3",
   "version": "3.12.3"
  }
 },
 "nbformat": 4,
 "nbformat_minor": 2
}
