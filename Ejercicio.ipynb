{
 "cells": [
  {
   "cell_type": "code",
   "execution_count": 1,
   "metadata": {},
   "outputs": [
    {
     "data": {
      "text/plain": [
       "3"
      ]
     },
     "execution_count": 1,
     "metadata": {},
     "output_type": "execute_result"
    }
   ],
   "source": [
    "3"
   ]
  },
  {
   "cell_type": "code",
   "execution_count": 2,
   "metadata": {},
   "outputs": [
    {
     "ename": "NameError",
     "evalue": "name 'a' is not defined",
     "output_type": "error",
     "traceback": [
      "\u001b[1;31m---------------------------------------------------------------------------\u001b[0m",
      "\u001b[1;31mNameError\u001b[0m                                 Traceback (most recent call last)",
      "Cell \u001b[1;32mIn[2], line 1\u001b[0m\n\u001b[1;32m----> 1\u001b[0m \u001b[43ma\u001b[49m\n",
      "\u001b[1;31mNameError\u001b[0m: name 'a' is not defined"
     ]
    }
   ],
   "source": [
    "a"
   ]
  },
  {
   "cell_type": "code",
   "execution_count": 3,
   "metadata": {},
   "outputs": [
    {
     "data": {
      "text/plain": [
       "'A'"
      ]
     },
     "execution_count": 3,
     "metadata": {},
     "output_type": "execute_result"
    }
   ],
   "source": [
    "\"A\""
   ]
  },
  {
   "cell_type": "code",
   "execution_count": 4,
   "metadata": {},
   "outputs": [],
   "source": [
    "a = 3"
   ]
  },
  {
   "cell_type": "code",
   "execution_count": 5,
   "metadata": {},
   "outputs": [
    {
     "data": {
      "text/plain": [
       "3"
      ]
     },
     "execution_count": 5,
     "metadata": {},
     "output_type": "execute_result"
    }
   ],
   "source": [
    "a"
   ]
  },
  {
   "cell_type": "code",
   "execution_count": 6,
   "metadata": {},
   "outputs": [],
   "source": [
    "metros = 1.87"
   ]
  },
  {
   "cell_type": "code",
   "execution_count": 7,
   "metadata": {},
   "outputs": [
    {
     "data": {
      "text/plain": [
       "1.87"
      ]
     },
     "execution_count": 7,
     "metadata": {},
     "output_type": "execute_result"
    }
   ],
   "source": [
    "metros"
   ]
  },
  {
   "cell_type": "code",
   "execution_count": 8,
   "metadata": {},
   "outputs": [
    {
     "name": "stdout",
     "output_type": "stream",
     "text": [
      "3\n"
     ]
    }
   ],
   "source": [
    "print(a)"
   ]
  },
  {
   "cell_type": "code",
   "execution_count": 9,
   "metadata": {},
   "outputs": [
    {
     "name": "stdout",
     "output_type": "stream",
     "text": [
      "batata\n"
     ]
    }
   ],
   "source": [
    "comida = \"batata\"\n",
    "print(comida)"
   ]
  },
  {
   "cell_type": "code",
   "execution_count": 11,
   "metadata": {},
   "outputs": [
    {
     "name": "stdout",
     "output_type": "stream",
     "text": [
      "3\n",
      "verde\n",
      "azul\n"
     ]
    }
   ],
   "source": [
    "# creamos una variable numérica que se llame \"cantidad\"\n",
    "cantidad = 3\n",
    "print(cantidad)\n",
    "\n",
    "# creamos una variable de tipo string que se llame \"categoria1\"\n",
    "categoria1 = \"verde\"\n",
    "print(categoria1)\n",
    "\n",
    "# creamos una variable que se llame categoria2 que sea igual a la variable azul\n",
    "categoria2 = \"azul\"\n",
    "print(categoria2)"
   ]
  },
  {
   "cell_type": "code",
   "execution_count": 12,
   "metadata": {},
   "outputs": [
    {
     "name": "stdout",
     "output_type": "stream",
     "text": [
      "verde oscuro\n"
     ]
    }
   ],
   "source": [
    "color_detalle = categoria1 + \" \" + \"oscuro\"\n",
    "print(color_detalle)"
   ]
  },
  {
   "cell_type": "code",
   "execution_count": 15,
   "metadata": {},
   "outputs": [
    {
     "name": "stdout",
     "output_type": "stream",
     "text": [
      "verde oscuro\n"
     ]
    }
   ],
   "source": [
    "print(categoria1 + \" \" + \"oscuro\")"
   ]
  },
  {
   "cell_type": "code",
   "execution_count": 18,
   "metadata": {},
   "outputs": [
    {
     "name": "stdout",
     "output_type": "stream",
     "text": [
      "verde oscuro\n"
     ]
    }
   ],
   "source": [
    "print(categoria1 , \"oscuro\")"
   ]
  },
  {
   "cell_type": "code",
   "execution_count": 19,
   "metadata": {},
   "outputs": [],
   "source": [
    "# definamos algunas variables con distintos tipos de datos numéricos\n",
    "\n",
    "b1 = 3.0\n",
    "b2 = 5\n",
    "b3 = 5.0\n",
    "b4 = 118"
   ]
  },
  {
   "cell_type": "code",
   "execution_count": 20,
   "metadata": {},
   "outputs": [],
   "source": [
    "# en esta celda introduciremos algunos operaciones básicos de Python\n",
    "\n",
    "c1 = b1 + b2 # \"+\" operador de suma\n",
    "c2 = b1 + b3\n",
    "c3 = b2 + b4\n",
    "c4 = b2 - b4 # \"-\" operador de resta\n",
    "c5 = b4 / b2 # \"/\" operador de división\n",
    "c6 = b4 / b3"
   ]
  },
  {
   "cell_type": "code",
   "execution_count": 21,
   "metadata": {},
   "outputs": [
    {
     "name": "stdout",
     "output_type": "stream",
     "text": [
      "C1 =  3.0  +  5  =  8.0\n",
      "C2 =  3.0  +  5.0  =  8.0\n",
      "C3 =  5  +  118  =  123\n",
      "C4 =  5  -  118  =  -113\n",
      "C5 =  118  /  5  =  23.6\n",
      "C6 =  118  /  5.0  =  23.6\n"
     ]
    }
   ],
   "source": [
    "print(\"C1 = \", b1, \" + \", b2, \" = \", c1)\n",
    "print(\"C2 = \", b1, \" + \", b3, \" = \", c2)\n",
    "print(\"C3 = \", b2, \" + \", b4, \" = \", c3)\n",
    "print(\"C4 = \", b2, \" - \", b4, \" = \", c4)\n",
    "print(\"C5 = \", b4, \" / \", b2, \" = \", c5)\n",
    "print(\"C6 = \", b4, \" / \", b3, \" = \", c6)"
   ]
  },
  {
   "cell_type": "code",
   "execution_count": 23,
   "metadata": {},
   "outputs": [
    {
     "name": "stdout",
     "output_type": "stream",
     "text": [
      "0\n",
      "0.0\n",
      "23\n",
      "23.6\n",
      "23.6\n"
     ]
    }
   ],
   "source": [
    "c5 = int()\n",
    "print(c5)\n",
    "c5 = float()\n",
    "print(c5)\n",
    "\n",
    "c5 = int(b4 / b2)\n",
    "print(c5)\n",
    "c5 = float(b4 / b2)\n",
    "print(c5)\n",
    "c5 = str(b4 / b2)\n",
    "print(c5)"
   ]
  },
  {
   "cell_type": "code",
   "execution_count": 24,
   "metadata": {},
   "outputs": [
    {
     "name": "stdout",
     "output_type": "stream",
     "text": [
      "23.6\n",
      "23.6\n",
      "23.6\n",
      "23.6\n",
      "23.6\n"
     ]
    }
   ],
   "source": [
    "C5 = int()\n",
    "print(c5)\n",
    "C5 = float()\n",
    "print(c5)\n",
    "\n",
    "C5 = int(b4 / b2)\n",
    "print(c5)\n",
    "C5 = float(b4 / b2)\n",
    "print(c5)\n",
    "C5 = str(b4 / b2)\n",
    "print(c5)"
   ]
  },
  {
   "cell_type": "code",
   "execution_count": null,
   "metadata": {},
   "outputs": [],
   "source": []
  }
 ],
 "metadata": {
  "kernelspec": {
   "display_name": "Python 3",
   "language": "python",
   "name": "python3"
  },
  "language_info": {
   "codemirror_mode": {
    "name": "ipython",
    "version": 3
   },
   "file_extension": ".py",
   "mimetype": "text/x-python",
   "name": "python",
   "nbconvert_exporter": "python",
   "pygments_lexer": "ipython3",
   "version": "3.12.3"
  }
 },
 "nbformat": 4,
 "nbformat_minor": 2
}
