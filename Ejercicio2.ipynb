{
 "cells": [
  {
   "cell_type": "code",
   "execution_count": 1,
   "metadata": {},
   "outputs": [
    {
     "name": "stdout",
     "output_type": "stream",
     "text": [
      "{'january': 'enero', 'febrary': 'febrero', 'march': 'marzo'}\n"
     ]
    }
   ],
   "source": [
    "#Diccionarios\n",
    "\n",
    "dicc_meses = dict(january = \"enero\", febrary = \"febrero\", march = \"marzo\")\n",
    "print(dicc_meses)"
   ]
  },
  {
   "cell_type": "code",
   "execution_count": 3,
   "metadata": {},
   "outputs": [],
   "source": [
    "clase_uno = {'nombre': 'Ana', 'edad': 25, 'ciudad': 'Madrid', 'hijos': 1}"
   ]
  },
  {
   "cell_type": "code",
   "execution_count": 5,
   "metadata": {},
   "outputs": [
    {
     "name": "stdout",
     "output_type": "stream",
     "text": [
      "eso es la edad de Ana None\n"
     ]
    }
   ],
   "source": [
    "# copia\n",
    "\n",
    "clase_uno.copy()\n",
    "clase_uno_copy = clase_uno.copy()\n",
    "print(\"eso es la edad de Ana\",clase_uno_copy.get(\"Ana\"))"
   ]
  },
  {
   "cell_type": "code",
   "execution_count": 6,
   "metadata": {},
   "outputs": [
    {
     "name": "stdout",
     "output_type": "stream",
     "text": [
      "{}\n"
     ]
    }
   ],
   "source": [
    "#copy\n",
    "clase_uno_copy.clear()\n",
    "print(clase_uno_copy)"
   ]
  },
  {
   "cell_type": "code",
   "execution_count": 7,
   "metadata": {},
   "outputs": [
    {
     "name": "stdout",
     "output_type": "stream",
     "text": [
      "aqui esta mi nuevo diccionario None\n",
      "{'nombre': 'Ana', 'edad': 25, 'ciudad': 'Madrid', 'hijos': 1, 'estrella': 45, 'juan': 38}\n"
     ]
    }
   ],
   "source": [
    "#update\n",
    "nuevo_miembro = {\"estrella\":45,\"juan\":38}\n",
    "print(\"aqui esta mi nuevo diccionario\",clase_uno.update(nuevo_miembro))\n",
    "print(clase_uno)"
   ]
  },
  {
   "cell_type": "code",
   "execution_count": 9,
   "metadata": {},
   "outputs": [
    {
     "name": "stdout",
     "output_type": "stream",
     "text": [
      "aqui es mi nuevo diccionario despues de pop 38\n"
     ]
    }
   ],
   "source": [
    "#pop\n",
    "print(\"aqui es mi nuevo diccionario despues de pop\",clase_uno.pop(\"juan\"))"
   ]
  },
  {
   "cell_type": "code",
   "execution_count": 13,
   "metadata": {},
   "outputs": [
    {
     "name": "stdout",
     "output_type": "stream",
     "text": [
      "hay alguien con edad 22? False\n",
      "el type de lista nombre es: <class 'list'>\n",
      "el type de lista nombre es: <class 'set'>\n"
     ]
    }
   ],
   "source": [
    "#sets(conjuntos) {}\n",
    "edades = {34,67,21,87}\n",
    "print(\"hay alguien con edad 22?\", 22 in edades)\n",
    "\n",
    "#listas\n",
    "nombres = [\"maria\",\"marta\",\"jose\"]\n",
    "print(\"el type de lista nombre es:\" ,type(nombres))\n",
    "\n",
    "#set\n",
    "nombre_set = set(nombres)\n",
    "print(\"el type de lista nombre es:\" ,type(nombre_set))\n"
   ]
  },
  {
   "cell_type": "code",
   "execution_count": 15,
   "metadata": {},
   "outputs": [
    {
     "name": "stdout",
     "output_type": "stream",
     "text": [
      "aqui el set por el conjunto extendido None\n",
      "{34, 67, 80, 21, 87}\n"
     ]
    }
   ],
   "source": [
    "#add \n",
    "print(\"aqui el set por el conjunto extendido\", edades.add(80))\n",
    "print(edades)"
   ]
  },
  {
   "cell_type": "code",
   "execution_count": 16,
   "metadata": {},
   "outputs": [
    {
     "name": "stdout",
     "output_type": "stream",
     "text": [
      "{67, 80, 21, 87}\n"
     ]
    }
   ],
   "source": [
    "#pop con sets\n",
    "edades.pop()\n",
    "print(edades)"
   ]
  },
  {
   "cell_type": "code",
   "execution_count": 17,
   "metadata": {},
   "outputs": [
    {
     "name": "stdout",
     "output_type": "stream",
     "text": [
      "esto es set 1: {0, 1, 3, 5}\n",
      "esto es set 2: {0, 2, 4, 6}\n",
      "y esto es el resultado de union: {0, 1, 2, 3, 4, 5, 6}\n"
     ]
    }
   ],
   "source": [
    "#operaciones\n",
    "\n",
    "set1 = {0,1,3,5}\n",
    "set2 = {0,2,4,6}\n",
    "\n",
    "print(\"esto es set 1:\",set1)\n",
    "print(\"esto es set 2:\",set2)\n",
    "\n",
    "print(\"y esto es el resultado de union:\",set1.union(set2))"
   ]
  },
  {
   "cell_type": "code",
   "execution_count": 18,
   "metadata": {},
   "outputs": [
    {
     "name": "stdout",
     "output_type": "stream",
     "text": [
      "y esto es el resultado de intersection: {0}\n"
     ]
    }
   ],
   "source": [
    "#intersection\n",
    "\n",
    "print(\"y esto es el resultado de intersection:\",set1.intersection(set2))"
   ]
  },
  {
   "cell_type": "code",
   "execution_count": 22,
   "metadata": {},
   "outputs": [
    {
     "name": "stdout",
     "output_type": "stream",
     "text": [
      "y esto es el resultado de difference: {1, 3, 5}\n",
      "y esto es el resultado de difference: {2, 4, 6}\n",
      "y esto es el resultado de symmetric_difference: {1, 2, 3, 4, 5, 6}\n"
     ]
    }
   ],
   "source": [
    "#differente y symmetric_difference\n",
    "\n",
    "print(\"y esto es el resultado de difference:\",set1.difference(set2))\n",
    "print(\"y esto es el resultado de difference:\",set2.difference(set1))\n",
    "\n",
    "print(\"y esto es el resultado de symmetric_difference:\",set1.symmetric_difference(set2))"
   ]
  },
  {
   "cell_type": "code",
   "execution_count": 23,
   "metadata": {},
   "outputs": [
    {
     "name": "stdout",
     "output_type": "stream",
     "text": [
      "y esto es el resultado de issubset: False\n"
     ]
    }
   ],
   "source": [
    "#issubset:parte mas pequeña de un set, un subset\n",
    "\n",
    "print(\"y esto es el resultado de issubset:\",set1.issubset(set2))"
   ]
  },
  {
   "cell_type": "code",
   "execution_count": 40,
   "metadata": {},
   "outputs": [
    {
     "name": "stdout",
     "output_type": "stream",
     "text": [
      "{'01/01': 'año nuevo', '06/01': 'epifania del señor'}\n"
     ]
    }
   ],
   "source": [
    "#definir diccionarios\n",
    "\n",
    "#ejercicio 1\n",
    "diccionario_festivos = {\"01/01\":\"año nuevo\", \"06/01\":\"epifania del señor\"}\n",
    "print(diccionario_festivos)\n",
    "\n",
    "\n"
   ]
  }
 ],
 "metadata": {
  "kernelspec": {
   "display_name": "Python 3",
   "language": "python",
   "name": "python3"
  },
  "language_info": {
   "codemirror_mode": {
    "name": "ipython",
    "version": 3
   },
   "file_extension": ".py",
   "mimetype": "text/x-python",
   "name": "python",
   "nbconvert_exporter": "python",
   "pygments_lexer": "ipython3",
   "version": "3.12.3"
  }
 },
 "nbformat": 4,
 "nbformat_minor": 2
}
