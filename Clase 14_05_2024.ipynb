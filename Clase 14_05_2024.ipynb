{
 "cells": [
  {
   "cell_type": "code",
   "execution_count": 4,
   "metadata": {},
   "outputs": [
    {
     "data": {
      "text/plain": [
       "'mi nombre es Alicia y mi edad es 34 años'"
      ]
     },
     "execution_count": 4,
     "metadata": {},
     "output_type": "execute_result"
    }
   ],
   "source": [
    "#nombre y edad como variables\n",
    "nombre = \"Alicia\"\n",
    "edad = 34\n",
    "\n",
    "f\"mi nombre es {nombre} y mi edad es {edad} años\""
   ]
  },
  {
   "cell_type": "code",
   "execution_count": 5,
   "metadata": {},
   "outputs": [
    {
     "data": {
      "text/plain": [
       "[1, 2, 3, 4, 5, 6]"
      ]
     },
     "execution_count": 5,
     "metadata": {},
     "output_type": "execute_result"
    }
   ],
   "source": [
    "lista1 = [1,2,3,4,5,6,7]\n",
    "\n",
    "range(1,7)\n",
    "\n",
    "list(range(1,7))\n"
   ]
  },
  {
   "cell_type": "code",
   "execution_count": null,
   "metadata": {},
   "outputs": [],
   "source": [
    "#parametros por defecto\n",
    "\n",
    "def mi_funcion(parametro1, parametro2=x):\n",
    "    body"
   ]
  },
  {
   "cell_type": "code",
   "execution_count": 10,
   "metadata": {},
   "outputs": [
    {
     "data": {
      "text/plain": [
       "'mi nombre es july y vivo en la ciudad de madrid'"
      ]
     },
     "execution_count": 10,
     "metadata": {},
     "output_type": "execute_result"
    }
   ],
   "source": [
    "def mi_funcion(nombre, ciudad=\"madrid\"):\n",
    "    nombre=input(\"cual es tu nombre\")\n",
    "    return f\"mi nombre es {nombre} y vivo en la ciudad de {ciudad}\"\n",
    "\n",
    "mi_funcion(\"july\")"
   ]
  },
  {
   "cell_type": "code",
   "execution_count": null,
   "metadata": {},
   "outputs": [],
   "source": [
    "#estructura de una funcion - simpre empieza por def\n",
    "def mi_funcion():\n",
    "    operacion\n",
    "    return x"
   ]
  },
  {
   "cell_type": "code",
   "execution_count": 11,
   "metadata": {},
   "outputs": [],
   "source": [
    "#clase - OPP\n",
    "##empieza por class - el nombre empieza por mayusculas y de resto en minusculas \n",
    "\n",
    "class Mascota:\n",
    "    pass"
   ]
  },
  {
   "cell_type": "code",
   "execution_count": 14,
   "metadata": {},
   "outputs": [
    {
     "data": {
      "text/plain": [
       "<__main__.Mascota at 0x1fd4d5230e0>"
      ]
     },
     "execution_count": 14,
     "metadata": {},
     "output_type": "execute_result"
    }
   ],
   "source": [
    "felix = Mascota()\n",
    "\n",
    "felix"
   ]
  },
  {
   "cell_type": "code",
   "execution_count": null,
   "metadata": {},
   "outputs": [],
   "source": [
    "#estructura de clase\n",
    "class x:\n",
    "\n",
    "    def _init_(self,parametro1,parametro2,...):\n",
    "        self.parametro1 = parametro1\n",
    "        self.parametro2 = parametro2 "
   ]
  },
  {
   "cell_type": "code",
   "execution_count": 19,
   "metadata": {},
   "outputs": [],
   "source": [
    "class Mascota:\n",
    "    def _init_(self,animal,edad,raza):\n",
    "        self.animal = animal\n",
    "        self.edad = edad\n",
    "        self.raza = raza\n",
    "        self.hogar = \"domicilio\""
   ]
  },
  {
   "cell_type": "code",
   "execution_count": 20,
   "metadata": {},
   "outputs": [
    {
     "ename": "TypeError",
     "evalue": "Mascota() takes no arguments",
     "output_type": "error",
     "traceback": [
      "\u001b[1;31m---------------------------------------------------------------------------\u001b[0m",
      "\u001b[1;31mTypeError\u001b[0m                                 Traceback (most recent call last)",
      "Cell \u001b[1;32mIn[20], line 1\u001b[0m\n\u001b[1;32m----> 1\u001b[0m felix \u001b[38;5;241m=\u001b[39m \u001b[43mMascota\u001b[49m\u001b[43m(\u001b[49m\u001b[38;5;124;43m\"\u001b[39;49m\u001b[38;5;124;43mgato\u001b[39;49m\u001b[38;5;124;43m\"\u001b[39;49m\u001b[43m,\u001b[49m\u001b[38;5;241;43m2\u001b[39;49m\u001b[43m,\u001b[49m\u001b[38;5;124;43m\"\u001b[39;49m\u001b[38;5;124;43mgato comun\u001b[39;49m\u001b[38;5;124;43m\"\u001b[39;49m\u001b[43m)\u001b[49m\n",
      "\u001b[1;31mTypeError\u001b[0m: Mascota() takes no arguments"
     ]
    }
   ],
   "source": [
    "felix = Mascota(\"gato\",2,\"gato comun\")"
   ]
  },
  {
   "cell_type": "code",
   "execution_count": 39,
   "metadata": {},
   "outputs": [
    {
     "ename": "SyntaxError",
     "evalue": "invalid syntax (611330054.py, line 26)",
     "output_type": "error",
     "traceback": [
      "\u001b[1;36m  Cell \u001b[1;32mIn[39], line 26\u001b[1;36m\u001b[0m\n\u001b[1;33m    elif self.animal == \"perro\":\u001b[0m\n\u001b[1;37m    ^\u001b[0m\n\u001b[1;31mSyntaxError\u001b[0m\u001b[1;31m:\u001b[0m invalid syntax\n"
     ]
    }
   ],
   "source": [
    "class Mascota:\n",
    "    \n",
    "    def __init__(self, animal,edad,raza):\n",
    "        self.animal = animal\n",
    "        self.edad = edad\n",
    "        self.raza = raza\n",
    "        self.hogar = \"domicilio\"\n",
    "\n",
    "    def rango_edad(self):\n",
    "        if self.edad < 2:\n",
    "            return \"junior\"\n",
    "        elif self.edad > 10:\n",
    "            return \"senior\"\n",
    "        else:\n",
    "            return \"adulto\"\n",
    "\n",
    "    def vacunas(self, numero_vacunas):\n",
    "        self.numero_vacunas = numero_vacunas \n",
    "\n",
    "        if self.animal == \"gato\":\n",
    "            numero_vacunas < 3\n",
    "            return \"debes vacunas mas\"\n",
    "        else: \n",
    "            return \"tu gato esta bien\"\n",
    "\n",
    "        elif self.animal == \"perro\":\n",
    "        if numero_vacunas < 5\n",
    "            return \"vacunar mas\"\n",
    "        \n",
    "        else:\n",
    "            return \"tu perro esta bien\"\n",
    "\n",
    "        else:\n",
    "            return \"tu animal no necesita vacunas\"\n",
    "\n",
    "\n"
   ]
  },
  {
   "cell_type": "code",
   "execution_count": null,
   "metadata": {},
   "outputs": [],
   "source": []
  }
 ],
 "metadata": {
  "kernelspec": {
   "display_name": "Python 3",
   "language": "python",
   "name": "python3"
  },
  "language_info": {
   "codemirror_mode": {
    "name": "ipython",
    "version": 3
   },
   "file_extension": ".py",
   "mimetype": "text/x-python",
   "name": "python",
   "nbconvert_exporter": "python",
   "pygments_lexer": "ipython3",
   "version": "3.12.3"
  }
 },
 "nbformat": 4,
 "nbformat_minor": 2
}
